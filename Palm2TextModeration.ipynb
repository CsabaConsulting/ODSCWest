{
 "cells": [
  {
   "cell_type": "markdown",
   "id": "7f55c78c-6cf8-405f-b606-ca2591e8af92",
   "metadata": {},
   "source": [
    "1. Don't forget to enable \"AI Platform Training & Prediction API\" API: https://console.cloud.google.com/apis/api/ml.googleapis.com/metrics?project=YOUR-PROJECT-ID\n",
    "2. https://cloud.google.com/blog/products/ai-machine-learning/google-cloud-text-moderation\n",
    "3. https://cloud.google.com/natural-language/docs/moderating-text\n",
    "4. https://github.com/GoogleCloudPlatform/devrel-demos/blob/main/other/colab/Using%20the%20Natural%20Language%20API%20with%20Python.ipynb\n",
    "5. https://codelabs.developers.google.com/codelabs/cloud-natural-language-python3#7\n",
    "6. https://medium.com/google-cloud/moderating-text-with-the-natural-language-api-5d379727da2c\n",
    "7. Setting up Default credential requires `gcloud auth application-default login` (https://cloud.google.com/docs/authentication/external/set-up-adc)\n",
    "8. Server possibly side requires service account: https://cloud.google.com/docs/authentication#auth-decision-tree and https://cloud.google.com/docs/authentication/application-default-credentials\n",
    "9. Set up quota project with `gcloud auth application-default set-quota-project PROJECT_ID` (https://cloud.google.com/docs/authentication/troubleshoot-adc#user-creds-client-based)"
   ]
  },
  {
   "cell_type": "code",
   "execution_count": 3,
   "id": "93214b64-836a-48ce-a3b2-9d9a3b01f471",
   "metadata": {
    "tags": []
   },
   "outputs": [
    {
     "name": "stdout",
     "output_type": "stream",
     "text": [
      "Collecting google-cloud-language\n",
      "  Downloading google_cloud_language-2.11.1-py2.py3-none-any.whl (138 kB)\n",
      "\u001b[2K     \u001b[38;2;114;156;31m━━━━━━━━━━━━━━━━━━━━━━━━━━━━━━━━━━━━━━━\u001b[0m \u001b[32m138.7/138.7 kB\u001b[0m \u001b[31m2.0 MB/s\u001b[0m eta \u001b[36m0:00:00\u001b[0m MB/s\u001b[0m eta \u001b[36m0:00:01\u001b[0m:01\u001b[0m\n",
      "\u001b[?25hRequirement already satisfied: google-api-core[grpc]!=2.0.*,!=2.1.*,!=2.10.*,!=2.2.*,!=2.3.*,!=2.4.*,!=2.5.*,!=2.6.*,!=2.7.*,!=2.8.*,!=2.9.*,<3.0.0dev,>=1.34.0 in /home/csaba/anaconda3/lib/python3.9/site-packages (from google-cloud-language) (2.11.1)\n",
      "Requirement already satisfied: proto-plus<2.0.0dev,>=1.22.0 in /home/csaba/anaconda3/lib/python3.9/site-packages (from google-cloud-language) (1.22.3)\n",
      "Requirement already satisfied: protobuf!=3.20.0,!=3.20.1,!=4.21.0,!=4.21.1,!=4.21.2,!=4.21.3,!=4.21.4,!=4.21.5,<5.0.0dev,>=3.19.5 in /home/csaba/anaconda3/lib/python3.9/site-packages (from google-cloud-language) (4.24.3)\n",
      "Requirement already satisfied: googleapis-common-protos<2.0.dev0,>=1.56.2 in /home/csaba/anaconda3/lib/python3.9/site-packages (from google-api-core[grpc]!=2.0.*,!=2.1.*,!=2.10.*,!=2.2.*,!=2.3.*,!=2.4.*,!=2.5.*,!=2.6.*,!=2.7.*,!=2.8.*,!=2.9.*,<3.0.0dev,>=1.34.0->google-cloud-language) (1.56.4)\n",
      "Requirement already satisfied: google-auth<3.0.dev0,>=2.14.1 in /home/csaba/anaconda3/lib/python3.9/site-packages (from google-api-core[grpc]!=2.0.*,!=2.1.*,!=2.10.*,!=2.2.*,!=2.3.*,!=2.4.*,!=2.5.*,!=2.6.*,!=2.7.*,!=2.8.*,!=2.9.*,<3.0.0dev,>=1.34.0->google-cloud-language) (2.23.0)\n",
      "Requirement already satisfied: requests<3.0.0.dev0,>=2.18.0 in /home/csaba/anaconda3/lib/python3.9/site-packages (from google-api-core[grpc]!=2.0.*,!=2.1.*,!=2.10.*,!=2.2.*,!=2.3.*,!=2.4.*,!=2.5.*,!=2.6.*,!=2.7.*,!=2.8.*,!=2.9.*,<3.0.0dev,>=1.34.0->google-cloud-language) (2.29.0)\n",
      "Requirement already satisfied: grpcio<2.0dev,>=1.33.2 in /home/csaba/anaconda3/lib/python3.9/site-packages (from google-api-core[grpc]!=2.0.*,!=2.1.*,!=2.10.*,!=2.2.*,!=2.3.*,!=2.4.*,!=2.5.*,!=2.6.*,!=2.7.*,!=2.8.*,!=2.9.*,<3.0.0dev,>=1.34.0->google-cloud-language) (1.58.0)\n",
      "Requirement already satisfied: grpcio-status<2.0.dev0,>=1.33.2 in /home/csaba/anaconda3/lib/python3.9/site-packages (from google-api-core[grpc]!=2.0.*,!=2.1.*,!=2.10.*,!=2.2.*,!=2.3.*,!=2.4.*,!=2.5.*,!=2.6.*,!=2.7.*,!=2.8.*,!=2.9.*,<3.0.0dev,>=1.34.0->google-cloud-language) (1.58.0)\n",
      "Requirement already satisfied: cachetools<6.0,>=2.0.0 in /home/csaba/anaconda3/lib/python3.9/site-packages (from google-auth<3.0.dev0,>=2.14.1->google-api-core[grpc]!=2.0.*,!=2.1.*,!=2.10.*,!=2.2.*,!=2.3.*,!=2.4.*,!=2.5.*,!=2.6.*,!=2.7.*,!=2.8.*,!=2.9.*,<3.0.0dev,>=1.34.0->google-cloud-language) (4.2.2)\n",
      "Requirement already satisfied: pyasn1-modules>=0.2.1 in /home/csaba/anaconda3/lib/python3.9/site-packages (from google-auth<3.0.dev0,>=2.14.1->google-api-core[grpc]!=2.0.*,!=2.1.*,!=2.10.*,!=2.2.*,!=2.3.*,!=2.4.*,!=2.5.*,!=2.6.*,!=2.7.*,!=2.8.*,!=2.9.*,<3.0.0dev,>=1.34.0->google-cloud-language) (0.2.8)\n",
      "Requirement already satisfied: rsa<5,>=3.1.4 in /home/csaba/anaconda3/lib/python3.9/site-packages (from google-auth<3.0.dev0,>=2.14.1->google-api-core[grpc]!=2.0.*,!=2.1.*,!=2.10.*,!=2.2.*,!=2.3.*,!=2.4.*,!=2.5.*,!=2.6.*,!=2.7.*,!=2.8.*,!=2.9.*,<3.0.0dev,>=1.34.0->google-cloud-language) (4.7.2)\n",
      "Requirement already satisfied: urllib3<2.0 in /home/csaba/anaconda3/lib/python3.9/site-packages (from google-auth<3.0.dev0,>=2.14.1->google-api-core[grpc]!=2.0.*,!=2.1.*,!=2.10.*,!=2.2.*,!=2.3.*,!=2.4.*,!=2.5.*,!=2.6.*,!=2.7.*,!=2.8.*,!=2.9.*,<3.0.0dev,>=1.34.0->google-cloud-language) (1.26.16)\n",
      "Requirement already satisfied: charset-normalizer<4,>=2 in /home/csaba/anaconda3/lib/python3.9/site-packages (from requests<3.0.0.dev0,>=2.18.0->google-api-core[grpc]!=2.0.*,!=2.1.*,!=2.10.*,!=2.2.*,!=2.3.*,!=2.4.*,!=2.5.*,!=2.6.*,!=2.7.*,!=2.8.*,!=2.9.*,<3.0.0dev,>=1.34.0->google-cloud-language) (2.0.4)\n",
      "Requirement already satisfied: idna<4,>=2.5 in /home/csaba/anaconda3/lib/python3.9/site-packages (from requests<3.0.0.dev0,>=2.18.0->google-api-core[grpc]!=2.0.*,!=2.1.*,!=2.10.*,!=2.2.*,!=2.3.*,!=2.4.*,!=2.5.*,!=2.6.*,!=2.7.*,!=2.8.*,!=2.9.*,<3.0.0dev,>=1.34.0->google-cloud-language) (3.4)\n",
      "Requirement already satisfied: certifi>=2017.4.17 in /home/csaba/anaconda3/lib/python3.9/site-packages (from requests<3.0.0.dev0,>=2.18.0->google-api-core[grpc]!=2.0.*,!=2.1.*,!=2.10.*,!=2.2.*,!=2.3.*,!=2.4.*,!=2.5.*,!=2.6.*,!=2.7.*,!=2.8.*,!=2.9.*,<3.0.0dev,>=1.34.0->google-cloud-language) (2023.7.22)\n",
      "Requirement already satisfied: pyasn1<0.5.0,>=0.4.6 in /home/csaba/anaconda3/lib/python3.9/site-packages (from pyasn1-modules>=0.2.1->google-auth<3.0.dev0,>=2.14.1->google-api-core[grpc]!=2.0.*,!=2.1.*,!=2.10.*,!=2.2.*,!=2.3.*,!=2.4.*,!=2.5.*,!=2.6.*,!=2.7.*,!=2.8.*,!=2.9.*,<3.0.0dev,>=1.34.0->google-cloud-language) (0.4.8)\n",
      "Installing collected packages: google-cloud-language\n",
      "Successfully installed google-cloud-language-2.11.1\n"
     ]
    }
   ],
   "source": [
    "!pip install google-cloud-language"
   ]
  },
  {
   "cell_type": "code",
   "execution_count": 8,
   "id": "12331a58-e3e7-4685-bbc2-4c9e20096811",
   "metadata": {
    "tags": []
   },
   "outputs": [],
   "source": [
    "from google.cloud import language\n",
    "\n",
    "def moderate_text(text: str) -> language.ModerateTextResponse:\n",
    "    client = language.LanguageServiceClient()\n",
    "    document = language.Document(\n",
    "        content=text,\n",
    "        type_=language.Document.Type.PLAIN_TEXT,\n",
    "    )\n",
    "    return client.moderate_text(document=document)\n",
    "\n",
    "def show_text_moderation(text: str, response: language.ModerateTextResponse):\n",
    "    import pandas as pd\n",
    "\n",
    "    def confidence(category: language.ClassificationCategory) -> float:\n",
    "        return category.confidence\n",
    "\n",
    "    columns = [\"category\", \"confidence\"]\n",
    "    categories = sorted(response.moderation_categories, key=confidence, reverse=True)\n",
    "    data = ((category.name, category.confidence) for category in categories)\n",
    "    df = pd.DataFrame(columns=columns, data=data)\n",
    "\n",
    "    print(f\"Text analyzed:\\n{text}\")\n",
    "    print(df.to_markdown(index=False, tablefmt=\"presto\", floatfmt=\".0%\"))"
   ]
  },
  {
   "cell_type": "code",
   "execution_count": 9,
   "id": "85d932b1-fcb1-467a-979f-b0f5e00d171d",
   "metadata": {
    "tags": []
   },
   "outputs": [
    {
     "name": "stdout",
     "output_type": "stream",
     "text": [
      "Text analyzed:\n",
      "I have to read Ulysses by James Joyce.\n",
      "I'm a little over halfway through and I hate it.\n",
      "What a pile of garbage!\n",
      "\n",
      " category              |   confidence\n",
      "-----------------------+--------------\n",
      " Toxic                 |          67%\n",
      " Insult                |          58%\n",
      " Profanity             |          53%\n",
      " Violent               |          48%\n",
      " Illicit Drugs         |          29%\n",
      " Religion & Belief     |          27%\n",
      " Politics              |          22%\n",
      " Death, Harm & Tragedy |          21%\n",
      " Finance               |          18%\n",
      " Derogatory            |          14%\n",
      " Firearms & Weapons    |          11%\n",
      " Health                |          10%\n",
      " Legal                 |          10%\n",
      " War & Conflict        |           7%\n",
      " Public Safety         |           5%\n",
      " Sexual                |           4%\n"
     ]
    }
   ],
   "source": [
    "# Input\n",
    "text = \"\"\"I have to read Ulysses by James Joyce.\n",
    "I'm a little over halfway through and I hate it.\n",
    "What a pile of garbage!\n",
    "\"\"\"\n",
    "\n",
    "# Send a request to the API\n",
    "#response = moderate_text(text)\n",
    "\n",
    "# Show the results\n",
    "show_text_moderation(text, response)"
   ]
  },
  {
   "cell_type": "code",
   "execution_count": 10,
   "id": "306b4515-d0b6-4181-b235-a5c4c4f255c5",
   "metadata": {
    "tags": []
   },
   "outputs": [
    {
     "data": {
      "text/plain": [
       "moderation_categories {\n",
       "  name: \"Toxic\"\n",
       "  confidence: 0.6740991\n",
       "}\n",
       "moderation_categories {\n",
       "  name: \"Insult\"\n",
       "  confidence: 0.5849121\n",
       "}\n",
       "moderation_categories {\n",
       "  name: \"Profanity\"\n",
       "  confidence: 0.5306389\n",
       "}\n",
       "moderation_categories {\n",
       "  name: \"Derogatory\"\n",
       "  confidence: 0.13765176\n",
       "}\n",
       "moderation_categories {\n",
       "  name: \"Sexual\"\n",
       "  confidence: 0.03796826\n",
       "}\n",
       "moderation_categories {\n",
       "  name: \"Death, Harm & Tragedy\"\n",
       "  confidence: 0.2072072\n",
       "}\n",
       "moderation_categories {\n",
       "  name: \"Violent\"\n",
       "  confidence: 0.48322147\n",
       "}\n",
       "moderation_categories {\n",
       "  name: \"Firearms & Weapons\"\n",
       "  confidence: 0.10526316\n",
       "}\n",
       "moderation_categories {\n",
       "  name: \"Public Safety\"\n",
       "  confidence: 0.051813472\n",
       "}\n",
       "moderation_categories {\n",
       "  name: \"Health\"\n",
       "  confidence: 0.10313076\n",
       "}\n",
       "moderation_categories {\n",
       "  name: \"Religion & Belief\"\n",
       "  confidence: 0.267658\n",
       "}\n",
       "moderation_categories {\n",
       "  name: \"Illicit Drugs\"\n",
       "  confidence: 0.29411766\n",
       "}\n",
       "moderation_categories {\n",
       "  name: \"War & Conflict\"\n",
       "  confidence: 0.06603774\n",
       "}\n",
       "moderation_categories {\n",
       "  name: \"Politics\"\n",
       "  confidence: 0.2173913\n",
       "}\n",
       "moderation_categories {\n",
       "  name: \"Finance\"\n",
       "  confidence: 0.17695473\n",
       "}\n",
       "moderation_categories {\n",
       "  name: \"Legal\"\n",
       "  confidence: 0.100946374\n",
       "}"
      ]
     },
     "execution_count": 10,
     "metadata": {},
     "output_type": "execute_result"
    }
   ],
   "source": [
    "response"
   ]
  },
  {
   "cell_type": "code",
   "execution_count": 13,
   "id": "e7ddb87f-eb5a-4e20-9d64-425582e041d4",
   "metadata": {
    "tags": []
   },
   "outputs": [
    {
     "data": {
      "text/plain": [
       "[name: \"Toxic\"\n",
       "confidence: 0.6740991\n",
       ", name: \"Insult\"\n",
       "confidence: 0.5849121\n",
       ", name: \"Profanity\"\n",
       "confidence: 0.5306389\n",
       ", name: \"Derogatory\"\n",
       "confidence: 0.13765176\n",
       ", name: \"Sexual\"\n",
       "confidence: 0.03796826\n",
       ", name: \"Death, Harm & Tragedy\"\n",
       "confidence: 0.2072072\n",
       ", name: \"Violent\"\n",
       "confidence: 0.48322147\n",
       ", name: \"Firearms & Weapons\"\n",
       "confidence: 0.10526316\n",
       ", name: \"Public Safety\"\n",
       "confidence: 0.051813472\n",
       ", name: \"Health\"\n",
       "confidence: 0.10313076\n",
       ", name: \"Religion & Belief\"\n",
       "confidence: 0.267658\n",
       ", name: \"Illicit Drugs\"\n",
       "confidence: 0.29411766\n",
       ", name: \"War & Conflict\"\n",
       "confidence: 0.06603774\n",
       ", name: \"Politics\"\n",
       "confidence: 0.2173913\n",
       ", name: \"Finance\"\n",
       "confidence: 0.17695473\n",
       ", name: \"Legal\"\n",
       "confidence: 0.100946374\n",
       "]"
      ]
     },
     "execution_count": 13,
     "metadata": {},
     "output_type": "execute_result"
    }
   ],
   "source": [
    "response.moderation_categories"
   ]
  },
  {
   "cell_type": "code",
   "execution_count": 15,
   "id": "441d874b-974a-43a9-90f1-704a6466aae6",
   "metadata": {
    "tags": []
   },
   "outputs": [
    {
     "data": {
      "text/plain": [
       "'Toxic'"
      ]
     },
     "execution_count": 15,
     "metadata": {},
     "output_type": "execute_result"
    }
   ],
   "source": [
    "response.moderation_categories[0].name"
   ]
  },
  {
   "cell_type": "code",
   "execution_count": 16,
   "id": "25adaa48-2177-482d-bd87-4df58b2384b5",
   "metadata": {
    "tags": []
   },
   "outputs": [
    {
     "data": {
      "text/plain": [
       "0.6740990877151489"
      ]
     },
     "execution_count": 16,
     "metadata": {},
     "output_type": "execute_result"
    }
   ],
   "source": [
    "response.moderation_categories[0].confidence"
   ]
  },
  {
   "cell_type": "code",
   "execution_count": 17,
   "id": "d133338b-7d4a-4485-b955-82871e1681c9",
   "metadata": {
    "tags": []
   },
   "outputs": [
    {
     "data": {
      "text/plain": [
       "16"
      ]
     },
     "execution_count": 17,
     "metadata": {},
     "output_type": "execute_result"
    }
   ],
   "source": [
    "len(response.moderation_categories)"
   ]
  }
 ],
 "metadata": {
  "kernelspec": {
   "display_name": "Python 3 (ipykernel)",
   "language": "python",
   "name": "python3"
  },
  "language_info": {
   "codemirror_mode": {
    "name": "ipython",
    "version": 3
   },
   "file_extension": ".py",
   "mimetype": "text/x-python",
   "name": "python",
   "nbconvert_exporter": "python",
   "pygments_lexer": "ipython3",
   "version": "3.9.13"
  }
 },
 "nbformat": 4,
 "nbformat_minor": 5
}
