{
 "cells": [
  {
   "cell_type": "code",
   "execution_count": 4,
   "id": "1c0aaa63-f236-41c6-ac88-6cabe8abaac7",
   "metadata": {
    "tags": []
   },
   "outputs": [
    {
     "name": "stdout",
     "output_type": "stream",
     "text": [
      "<Response [202]>\n"
     ]
    }
   ],
   "source": [
    "import os\n",
    "import requests\n",
    "\n",
    "MESHY_API_KEY = os.getenv(\"MESHY_API_KEY\") or \"MESHY_API_KEY\"\n",
    "\n",
    "payload = {\n",
    "    \"object_prompt\": \"a toy yellow rubber ducky\",\n",
    "    \"style_prompt\": \"red beak, yellow head, neck, body, and tail\",\n",
    "    \"enable_pbr\": False,\n",
    "    \"art_style\": \"generic\",\n",
    "    \"negative_prompt\": \"low quality, low resolution, low poly, ugly\"\n",
    "}\n",
    "\n",
    "url = \"https://api.meshy.ai/v1/text-to-3d\"\n",
    "headers = {\n",
    "    \"Authorization\": \"Bearer {}\".format(MESHY_API_KEY),\n",
    "#    \"Accept\": \"application/json; charset=utf-8\",\n",
    "}\n",
    "create_data = requests.post(url, headers=headers, json=payload) #, verify=False)\n",
    "print(create_data)"
   ]
  },
  {
   "cell_type": "code",
   "execution_count": 9,
   "id": "6573dd26-5284-4bd6-b72c-e5275362048a",
   "metadata": {
    "tags": []
   },
   "outputs": [
    {
     "data": {
      "text/plain": [
       "{'result': '018b6fb8-4a6e-7cb1-bd76-ba05788e7f33'}"
      ]
     },
     "execution_count": 9,
     "metadata": {},
     "output_type": "execute_result"
    }
   ],
   "source": [
    "import json\n",
    "create_response_json = json.loads(create_data.content)\n",
    "create_response_json"
   ]
  },
  {
   "cell_type": "code",
   "execution_count": 10,
   "id": "37e88c0c-34f1-47c4-b277-9fe15cae05a4",
   "metadata": {
    "tags": []
   },
   "outputs": [],
   "source": [
    "# 018b6fb8-4a6e-7cb1-bd76-ba05788e7f33\n",
    "# 018b6fbb-caa1-7cb1-a147-60168717b67b\n",
    "# 018b6fbd-6b92-7cb1-93c8-423a554a7f9c\n",
    "model_id = create_response_json['result']"
   ]
  },
  {
   "cell_type": "code",
   "execution_count": 18,
   "id": "f9280883-ed7a-43d9-b952-32af8ee3002b",
   "metadata": {
    "tags": []
   },
   "outputs": [],
   "source": [
    "url2 = f\"{url}/{model_id}\"\n",
    "status_data = requests.get(url2, headers=headers)"
   ]
  },
  {
   "cell_type": "code",
   "execution_count": 19,
   "id": "0b5c30d4-2fdd-447d-9273-84ea9cbc7eec",
   "metadata": {
    "tags": []
   },
   "outputs": [
    {
     "data": {
      "text/plain": [
       "b'{\"id\":\"018b6fb8-4a6e-7cb1-bd76-ba05788e7f33\",\"name\":\"\",\"status\":\"SUCCEEDED\",\"created_at\":1698386430584,\"progress\":100,\"started_at\":1698386481654,\"finished_at\":1698386584919,\"expires_at\":1698645784919,\"task_error\":null,\"model_url\":\"https://assets.meshy.ai/email%7C6538624500df208a7ee0363a/tasks/018b6fb8-4a6e-7cb1-bd76-ba05788e7f33/output/model.glb?Expires=1698645784\\\\u0026Signature=Jh7gpoXPhFF8I22MZjOe8OGWPvQXeVoIfEAE~mvPc-JwAXyGS4WZfYLSjAhaK8QwdNR3xXRlAXAvsG3Gw2xz8o~OaqsBuq0VdvwtD4IpvPmkxV3q2iUhIWj~19Rrxq3CJ0fCsPYOiIZ7j9HEJnMYVNFh-ANDptE0Z81jN4C9X4SzZni8ZDwOOyy~YWLsY0ebR054I3aM8RwIuT294OZrDNkzMOpb-xCDfb93VEyTkRdGqqnJue0js30DmQ1aKg3K7Ao0Xm~~PA7Qr-iy6LzYCeEOjD5tWmpfogdUsldBN1Nx81acHOs0YrMj99Jp9wqNMhX6C6SI78kPom7AGx1yLA__\\\\u0026Key-Pair-Id=KL5I0C8H7HX83\",\"thumbnail_url\":\"https://assets.meshy.ai/email%7C6538624500df208a7ee0363a/tasks/018b6fb8-4a6e-7cb1-bd76-ba05788e7f33/output/preview.png?Expires=1698645784\\\\u0026Signature=YsOVfS-fhw~2qJUAo2oWRuZv44GAZ66jTBLIEEU1X8ybnNYAFPSOUNKmIZ~Vf1i2b3gfIBwF6B75wnrqJorRrvDb08hXDnhT0PbyonBR9~gPUiSG~myWtfhmpPehSoBtniX4AOWV6fpiispmjl7Xm1QuuahRBLbgBm6UkvyLja7cSwGWCYSue5Wk9mMxE2Nd6fHlT8NcPREvpR4JIjMFWB2ILF5ogc-YjOAc0DuQgiiIQSVCWA5YQ8Q~VwScw3Smx1luCyBS3BbrDBITYkMfPlaYX42vKt-1nvHtmHOGbxE4g4IViolw56gpZHsCbX1B~cw8W~lQYxTjLssnqDeazQ__\\\\u0026Key-Pair-Id=KL5I0C8H7HX83\",\"texture_urls\":[{\"base_color\":\"https://assets.meshy.ai/email%7C6538624500df208a7ee0363a/tasks/018b6fb8-4a6e-7cb1-bd76-ba05788e7f33/output/texture_0.png?Expires=1698645784\\\\u0026Signature=JAEjvziripZwSXaMHBq5P3YGjxxZJmeE9aND3WO7ntyoRMgMuzmAEbcEp7mBwWX-ENXN1ddxIAsZqiuB-KmG7tXXIp9Rxd0f8eYu4qoGIYFi3c2sOYhXnJPJVDxYQ5n9DlKeQklSUvI5V8WH6x3--4VocZpDDbV8KAVJW9DOp5uVu6NvXHT2QYP5RBXMvSKFfhO5pc1h8KunKw6B6kj2IiI-f--psB2lVHdGjg9nXUFGKdwZBbFTHvacKLRhTDfiX6Sz18S6Zr4rCiXrSaM~In7sMdU7YU1R2rVWRnmm8T3apbBdDI4j2i~W0-vMH1ndC66ExaisRuD~f70TjxPtSA__\\\\u0026Key-Pair-Id=KL5I0C8H7HX83\"}]}'"
      ]
     },
     "execution_count": 19,
     "metadata": {},
     "output_type": "execute_result"
    }
   ],
   "source": [
    "status_data.content"
   ]
  },
  {
   "cell_type": "code",
   "execution_count": 20,
   "id": "695e8193-e679-48a1-b9df-61116886ced6",
   "metadata": {
    "tags": []
   },
   "outputs": [
    {
     "data": {
      "text/plain": [
       "{'id': '018b6fb8-4a6e-7cb1-bd76-ba05788e7f33',\n",
       " 'name': '',\n",
       " 'status': 'SUCCEEDED',\n",
       " 'created_at': 1698386430584,\n",
       " 'progress': 100,\n",
       " 'started_at': 1698386481654,\n",
       " 'finished_at': 1698386584919,\n",
       " 'expires_at': 1698645784919,\n",
       " 'task_error': None,\n",
       " 'model_url': 'https://assets.meshy.ai/email%7C6538624500df208a7ee0363a/tasks/018b6fb8-4a6e-7cb1-bd76-ba05788e7f33/output/model.glb?Expires=1698645784&Signature=Jh7gpoXPhFF8I22MZjOe8OGWPvQXeVoIfEAE~mvPc-JwAXyGS4WZfYLSjAhaK8QwdNR3xXRlAXAvsG3Gw2xz8o~OaqsBuq0VdvwtD4IpvPmkxV3q2iUhIWj~19Rrxq3CJ0fCsPYOiIZ7j9HEJnMYVNFh-ANDptE0Z81jN4C9X4SzZni8ZDwOOyy~YWLsY0ebR054I3aM8RwIuT294OZrDNkzMOpb-xCDfb93VEyTkRdGqqnJue0js30DmQ1aKg3K7Ao0Xm~~PA7Qr-iy6LzYCeEOjD5tWmpfogdUsldBN1Nx81acHOs0YrMj99Jp9wqNMhX6C6SI78kPom7AGx1yLA__&Key-Pair-Id=KL5I0C8H7HX83',\n",
       " 'thumbnail_url': 'https://assets.meshy.ai/email%7C6538624500df208a7ee0363a/tasks/018b6fb8-4a6e-7cb1-bd76-ba05788e7f33/output/preview.png?Expires=1698645784&Signature=YsOVfS-fhw~2qJUAo2oWRuZv44GAZ66jTBLIEEU1X8ybnNYAFPSOUNKmIZ~Vf1i2b3gfIBwF6B75wnrqJorRrvDb08hXDnhT0PbyonBR9~gPUiSG~myWtfhmpPehSoBtniX4AOWV6fpiispmjl7Xm1QuuahRBLbgBm6UkvyLja7cSwGWCYSue5Wk9mMxE2Nd6fHlT8NcPREvpR4JIjMFWB2ILF5ogc-YjOAc0DuQgiiIQSVCWA5YQ8Q~VwScw3Smx1luCyBS3BbrDBITYkMfPlaYX42vKt-1nvHtmHOGbxE4g4IViolw56gpZHsCbX1B~cw8W~lQYxTjLssnqDeazQ__&Key-Pair-Id=KL5I0C8H7HX83',\n",
       " 'texture_urls': [{'base_color': 'https://assets.meshy.ai/email%7C6538624500df208a7ee0363a/tasks/018b6fb8-4a6e-7cb1-bd76-ba05788e7f33/output/texture_0.png?Expires=1698645784&Signature=JAEjvziripZwSXaMHBq5P3YGjxxZJmeE9aND3WO7ntyoRMgMuzmAEbcEp7mBwWX-ENXN1ddxIAsZqiuB-KmG7tXXIp9Rxd0f8eYu4qoGIYFi3c2sOYhXnJPJVDxYQ5n9DlKeQklSUvI5V8WH6x3--4VocZpDDbV8KAVJW9DOp5uVu6NvXHT2QYP5RBXMvSKFfhO5pc1h8KunKw6B6kj2IiI-f--psB2lVHdGjg9nXUFGKdwZBbFTHvacKLRhTDfiX6Sz18S6Zr4rCiXrSaM~In7sMdU7YU1R2rVWRnmm8T3apbBdDI4j2i~W0-vMH1ndC66ExaisRuD~f70TjxPtSA__&Key-Pair-Id=KL5I0C8H7HX83'}]}"
      ]
     },
     "execution_count": 20,
     "metadata": {},
     "output_type": "execute_result"
    }
   ],
   "source": [
    "status_response_json = json.loads(status_data.content)\n",
    "status_response_json"
   ]
  },
  {
   "cell_type": "code",
   "execution_count": 21,
   "id": "6c7da339-a03a-46cd-bf18-94775c19f8f6",
   "metadata": {
    "tags": []
   },
   "outputs": [
    {
     "data": {
      "text/plain": [
       "843676"
      ]
     },
     "execution_count": 21,
     "metadata": {},
     "output_type": "execute_result"
    }
   ],
   "source": [
    "model_response = requests.get(status_response_json['model_url'])\n",
    "open(\"rubber_ducky_1.glb\", \"wb\").write(model_response.content)"
   ]
  },
  {
   "cell_type": "code",
   "execution_count": 22,
   "id": "d1e5f1a4-afac-4e2b-8d00-80c1d736187b",
   "metadata": {
    "tags": []
   },
   "outputs": [
    {
     "data": {
      "text/plain": [
       "232032"
      ]
     },
     "execution_count": 22,
     "metadata": {},
     "output_type": "execute_result"
    }
   ],
   "source": [
    "thumbnail_response = requests.get(status_response_json['thumbnail_url'])\n",
    "open(\"rubber_ducky_1_thumbnail.png\", \"wb\").write(thumbnail_response.content)"
   ]
  },
  {
   "cell_type": "code",
   "execution_count": 23,
   "id": "bea64be1-dcd1-4a94-8350-629a14980a88",
   "metadata": {
    "tags": []
   },
   "outputs": [
    {
     "data": {
      "text/plain": [
       "1318199"
      ]
     },
     "execution_count": 23,
     "metadata": {},
     "output_type": "execute_result"
    }
   ],
   "source": [
    "texture_response = requests.get(status_response_json['texture_urls'][0]['base_color'])\n",
    "open(\"rubber_ducky_1_texture.png\", \"wb\").write(texture_response.content)"
   ]
  },
  {
   "cell_type": "code",
   "execution_count": 24,
   "id": "56f4e670-d112-4d27-ba78-6ce8cc349c3c",
   "metadata": {
    "tags": []
   },
   "outputs": [
    {
     "data": {
      "text/plain": [
       "1473538"
      ]
     },
     "execution_count": 24,
     "metadata": {},
     "output_type": "execute_result"
    }
   ],
   "source": [
    "model_id = \"018b6fbb-caa1-7cb1-a147-60168717b67b\"\n",
    "url3 = f\"{url}/{model_id}\"\n",
    "status_data2 = requests.get(url3, headers=headers)\n",
    "status_response_json2 = json.loads(status_data2.content)\n",
    "\n",
    "model_response2 = requests.get(status_response_json2['model_url'])\n",
    "open(\"rubber_ducky_2.glb\", \"wb\").write(model_response2.content)\n",
    "\n",
    "thumbnail_response2 = requests.get(status_response_json2['thumbnail_url'])\n",
    "open(\"rubber_ducky_2_thumbnail.png\", \"wb\").write(thumbnail_response2.content)\n",
    "\n",
    "texture_response2 = requests.get(status_response_json2['texture_urls'][0]['base_color'])\n",
    "open(\"rubber_ducky_2_texture.png\", \"wb\").write(texture_response2.content)"
   ]
  },
  {
   "cell_type": "code",
   "execution_count": 25,
   "id": "f5f098b0-3829-4311-9151-0a0340465432",
   "metadata": {
    "tags": []
   },
   "outputs": [
    {
     "data": {
      "text/plain": [
       "1494080"
      ]
     },
     "execution_count": 25,
     "metadata": {},
     "output_type": "execute_result"
    }
   ],
   "source": [
    "model_id = \"018b6fbd-6b92-7cb1-93c8-423a554a7f9c\"\n",
    "url4 = f\"{url}/{model_id}\"\n",
    "status_data3 = requests.get(url4, headers=headers)\n",
    "status_response_json3 = json.loads(status_data3.content)\n",
    "\n",
    "model_response3 = requests.get(status_response_json3['model_url'])\n",
    "open(\"rubber_ducky_3.glb\", \"wb\").write(model_response3.content)\n",
    "\n",
    "thumbnail_response3 = requests.get(status_response_json3['thumbnail_url'])\n",
    "open(\"rubber_ducky_3_thumbnail.png\", \"wb\").write(thumbnail_response3.content)\n",
    "\n",
    "texture_response3 = requests.get(status_response_json3['texture_urls'][0]['base_color'])\n",
    "open(\"rubber_ducky_3_texture.png\", \"wb\").write(texture_response3.content)"
   ]
  }
 ],
 "metadata": {
  "kernelspec": {
   "display_name": "Python 3 (ipykernel)",
   "language": "python",
   "name": "python3"
  },
  "language_info": {
   "codemirror_mode": {
    "name": "ipython",
    "version": 3
   },
   "file_extension": ".py",
   "mimetype": "text/x-python",
   "name": "python",
   "nbconvert_exporter": "python",
   "pygments_lexer": "ipython3",
   "version": "3.9.13"
  }
 },
 "nbformat": 4,
 "nbformat_minor": 5
}
