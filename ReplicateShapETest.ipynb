{
 "cells": [
  {
   "cell_type": "code",
   "execution_count": 2,
   "id": "5b010aa7-d54d-40ec-8f76-8285dcdf7d22",
   "metadata": {
    "tags": []
   },
   "outputs": [
    {
     "name": "stdout",
     "output_type": "stream",
     "text": [
      "['https://pbxt.replicate.delivery/XSDDDfKPwRxhTKdn8ShfgCAfjNf0l7XIRC5wLcYGnT51uDJHB/out_0.gif', 'https://pbxt.replicate.delivery/VgdJHJqNusLKCBjqMJShX39a4B6ffG71k5wigD8t1Bed3hkjA/mesh_0.obj']\n"
     ]
    }
   ],
   "source": [
    "import replicate\n",
    "\n",
    "output = replicate.run(\n",
    "    \"cjwbw/shap-e:5957069d5c509126a73c7cb68abcddbb985aeefa4d318e7c63ec1352ce6da68c\",\n",
    "    input=dict(prompt=\"a toy yellow rubber ducky\", save_mesh=True)\n",
    ")\n",
    "print(output)"
   ]
  }
 ],
 "metadata": {
  "kernelspec": {
   "display_name": "Python 3 (ipykernel)",
   "language": "python",
   "name": "python3"
  },
  "language_info": {
   "codemirror_mode": {
    "name": "ipython",
    "version": 3
   },
   "file_extension": ".py",
   "mimetype": "text/x-python",
   "name": "python",
   "nbconvert_exporter": "python",
   "pygments_lexer": "ipython3",
   "version": "3.9.13"
  }
 },
 "nbformat": 4,
 "nbformat_minor": 5
}
