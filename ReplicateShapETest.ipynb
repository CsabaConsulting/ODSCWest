{
 "cells": [
  {
   "cell_type": "code",
   "execution_count": 6,
   "id": "5b010aa7-d54d-40ec-8f76-8285dcdf7d22",
   "metadata": {
    "tags": []
   },
   "outputs": [
    {
     "name": "stdout",
     "output_type": "stream",
     "text": [
      "https://replicate.delivery/pbxt/kzedYNrEppTrbq6aKPpRrZYi5aull0OitNZ7ZrTeD1f9ugmjA/out.mp3\n"
     ]
    }
   ],
   "source": [
    "import replicate\n",
    "\n",
    "deployment = replicate.deployments.get(\"mrcsabatoth/aussielabs-musicgen-replica\")\n",
    "prediction = deployment.predictions.create(\n",
    "  input=dict(\n",
    "      model_version=\"melody\",\n",
    "      prompt=\"chillout, ambient, relax\",\n",
    "      duration=10,\n",
    "      output_format=\"mp3\"\n",
    "  )\n",
    ")\n",
    "prediction.wait()\n",
    "print(prediction.output)"
   ]
  },
  {
   "cell_type": "code",
   "execution_count": 7,
   "id": "3a86bcae-4431-4d90-b02c-12f3cee398b3",
   "metadata": {
    "tags": []
   },
   "outputs": [
    {
     "name": "stdout",
     "output_type": "stream",
     "text": [
      "https://replicate.delivery/pbxt/99FLNPVgTybSN1qso37aM6YuViS1GQzsKE5ez9Q8E1AAMo5IA/out.mp3\n"
     ]
    }
   ],
   "source": [
    "output = replicate.run(\n",
    "  \"aussielabs/musicgen:11bbae94fb523ecaab2b87ec074fd5b668f20d2b84030c093ed5d5ba8f6f4df1\",\n",
    "  input=dict(\n",
    "      model_version=\"melody\",\n",
    "      prompt=\"chillout, ambient, relax\",\n",
    "      duration=10,\n",
    "      output_format=\"mp3\"\n",
    "  )\n",
    ")\n",
    "print(output)"
   ]
  }
 ],
 "metadata": {
  "kernelspec": {
   "display_name": "Python 3 (ipykernel)",
   "language": "python",
   "name": "python3"
  },
  "language_info": {
   "codemirror_mode": {
    "name": "ipython",
    "version": 3
   },
   "file_extension": ".py",
   "mimetype": "text/x-python",
   "name": "python",
   "nbconvert_exporter": "python",
   "pygments_lexer": "ipython3",
   "version": "3.9.13"
  }
 },
 "nbformat": 4,
 "nbformat_minor": 5
}
